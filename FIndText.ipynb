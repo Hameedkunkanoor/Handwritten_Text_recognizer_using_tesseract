{
 "cells": [
  {
   "cell_type": "code",
   "execution_count": 2,
   "metadata": {},
   "outputs": [],
   "source": [
    "import matplotlib.pyplot as plt"
   ]
  },
  {
   "cell_type": "code",
   "execution_count": 3,
   "metadata": {},
   "outputs": [],
   "source": [
    "import cv2"
   ]
  },
  {
   "cell_type": "code",
   "execution_count": 1,
   "metadata": {},
   "outputs": [
    {
     "output_type": "stream",
     "name": "stdout",
     "text": "cap\n"
    }
   ],
   "source": [
    "print('cap')\n",
    "import cv2\n",
    "cap = cv2.VideoCapture(0)\n",
    "print(cap)"
   ]
  },
  {
   "cell_type": "code",
   "execution_count": 2,
   "metadata": {},
   "outputs": [
    {
     "output_type": "stream",
     "name": "stdout",
     "text": "cap\ncap\nFalse\n"
    }
   ],
   "source": [
    "print('cap')\n",
    "import cv2\n",
    "cap = cv2.VideoCapture(-1)\n",
    "print('cap')\n",
    "print(cap.isOpened())"
   ]
  },
  {
   "cell_type": "code",
   "execution_count": 1,
   "metadata": {},
   "outputs": [
    {
     "output_type": "stream",
     "name": "stdout",
     "text": "cap\n"
    }
   ],
   "source": [
    "print('cap')\n",
    "import cv2\n",
    "cap = cv2.VideoCapture(0)\n",
    "print('cap')\n",
    "print(cap.isOpened())\n",
    "cap.open(0)\n",
    "print(cap.isOpened())"
   ]
  },
  {
   "cell_type": "code",
   "execution_count": 1,
   "metadata": {},
   "outputs": [],
   "source": []
  },
  {
   "cell_type": "code",
   "execution_count": 1,
   "metadata": {},
   "outputs": [],
   "source": [
    "import cv2\n",
    "\n",
    "cv2.namedWindow(\"preview\")\n",
    "vc = cv2.VideoCapture(0)\n",
    "\n",
    "\n",
    "\n",
    "while True:\n",
    "  rval, frame = vc.read()\n",
    "#   if frame is not None:   \n",
    "  cv2.imshow(\"dfgh\", frame)\n",
    "#   rval, frame = vc.read()\n",
    "\n",
    "  if cv2.waitKey(1) & 0xFF == ord('q'):\n",
    "     break"
   ]
  },
  {
   "cell_type": "code",
   "execution_count": null,
   "metadata": {},
   "outputs": [],
   "source": [
    "\n",
    "while(True):\n",
    "     ret, frame = cap.read()\n",
    "     cv2.imshow('frame',frame)\n",
    "     if cv2.waitKey(1) & 0xFF == ord('q'):\n",
    "        break"
   ]
  },
  {
   "cell_type": "code",
   "execution_count": 4,
   "metadata": {},
   "outputs": [],
   "source": [
    "\n",
    "plt.figure()\n",
    "cap = cv2.VideoCapture(0)\n",
    "while True:\n",
    "        \n",
    "        ret, frame = cap.read()\n",
    "        # if not ret:\n",
    "        #     break\n",
    "        # facecasc = cv2.CascadeClassifier('haarcascade_frontalface_default.xml')\n",
    "        # gray = cv2.cvtColor(frame, cv2.COLOR_BGR2GRAY)\n",
    "        # faces = facecasc.detectMultiScale(gray,scaleFactor=1.3, minNeighbors=5)\n",
    "        # canvas = np.zeros((250, 300, 3), dtype=\"uint8\")\n",
    "        # for (x, y, w, h) in faces:\n",
    "        #     draw_Rounded_Corners(frame, (x, y-50), (x+w, y+h+10), (255, 0, 0), 2,15, 10) \n",
    "        #     roi_gray = gray[y:y + h, x:x + w]\n",
    "        #     cropped_img = np.expand_dims(np.expand_dims(cv2.resize(roi_gray, (48, 48)), -1), 0)\n",
    "        #     prediction = model.predict(cropped_img)\n",
    "        #     maxindex = np.argmax(prediction)\n",
    "        #     cv2.putText(frame, emotion_dict[maxindex], (x+20, y-60), cv2.FONT_HERSHEY_SIMPLEX, 1, (255, 255, 255), 2, cv2.LINE_AA)\n",
    "        #     objects = (['Angry', 'Disgusted', 'Fearful', 'Happy', 'Neutral', 'Sad','Surprised'])\n",
    "        #     index = np.arange(len(objects))\n",
    "        #     MakingPositive=lambda a: (abs(a)+a)/2\n",
    "            # plt.barh(objects, MakingPositive(prediction[0]),color='orange')\n",
    "        plt.xlabel('Predictions')\n",
    "        plt.title('Emotion Percentage')\n",
    "        plt.plot()\n",
    "        plt.draw()\n",
    "        plt.pause(0.05)\n",
    "        plt.clf()\n",
    "        cv2.imshow('Face Emotion Detection', cv2.resize(frame,(600,500),interpolation = cv2.INTER_CUBIC))\n",
    "        \n",
    "        if cv2.waitKey(1) & 0xFF == ord('q'):\n",
    "             break\n"
   ]
  },
  {
   "cell_type": "code",
   "execution_count": null,
   "metadata": {},
   "outputs": [],
   "source": [
    "\n",
    "cap.release()\n",
    "cv2.destroyAllWindows()"
   ]
  }
 ],
 "metadata": {
  "language_info": {
   "codemirror_mode": {
    "name": "ipython",
    "version": 3
   },
   "file_extension": ".py",
   "mimetype": "text/x-python",
   "name": "python",
   "nbconvert_exporter": "python",
   "pygments_lexer": "ipython3",
   "version": "3.6.10-final"
  },
  "orig_nbformat": 2,
  "kernelspec": {
   "name": "python361064bitfc1fc2b22b7a46af971673e48cf69fec",
   "display_name": "Python 3.6.10 64-bit"
  }
 },
 "nbformat": 4,
 "nbformat_minor": 2
}